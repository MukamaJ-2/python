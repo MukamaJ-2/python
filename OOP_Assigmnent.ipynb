{
 "cells": [
  {
   "cell_type": "code",
   "execution_count": null,
   "metadata": {},
   "outputs": [],
   "source": []
  },
  {
   "cell_type": "markdown",
   "metadata": {},
   "source": [
    "NUMBER ONE ()"
   ]
  },
  {
   "cell_type": "code",
   "execution_count": 21,
   "metadata": {},
   "outputs": [
    {
     "name": "stdout",
     "output_type": "stream",
     "text": [
      "Car information:\n",
      " Brand:Telsa\n",
      " Model:Cybertruck\n",
      " Year:2019\n",
      " Mileage:15000\n"
     ]
    }
   ],
   "source": [
    "# Task one\n",
    "# Defining the class car\n",
    "class Car:\n",
    "    def __init__(self,brand,model,year,mileage):\n",
    "        self.brand = brand\n",
    "        self.model = model\n",
    "        self.year = year\n",
    "        self.mileage = mileage\n",
    "    def display_info(self):\n",
    "        print(f\"Car information:\\n Brand:{self.brand}\\n Model:{self.model}\\n Year:{self.year}\\n Mileage:{self.mileage}\")\n",
    "        \n",
    "Car1 = Car(\"Telsa\",\"Cybertruck\", 2019, 15000)\n",
    "Car1.display_info()\n",
    "\n"
   ]
  },
  {
   "cell_type": "code",
   "execution_count": 27,
   "metadata": {},
   "outputs": [
    {
     "name": "stdout",
     "output_type": "stream",
     "text": [
      "After driving 100km:\n",
      " Brand:Telsa\n",
      " Model:Cybertruck\n",
      " Year:2019\n",
      " Mileage:15100\n"
     ]
    }
   ],
   "source": [
    "# Task two\n",
    "# Defining the class car\n",
    "class Car:\n",
    "    def __init__(self,brand,model,year,mileage):\n",
    "        self.brand = brand\n",
    "        self.model = model\n",
    "        self.year = year\n",
    "        self.mileage = mileage\n",
    "  \n",
    "    def drive(self, distance):\n",
    "        self.mileage += distance\n",
    "\n",
    "    def display_info(self):\n",
    "        print(f\"After driving 100km:\\n Brand:{self.brand}\\n Model:{self.model}\\n Year:{self.year}\\n Mileage:{self.mileage}\")   \n",
    "    \n",
    "Car1 = Car(\"Telsa\",\"Cybertruck\", 2019, 15000)\n",
    "Car1.drive(100)\n",
    "Car1.display_info()\n",
    "\n",
    "\n"
   ]
  },
  {
   "cell_type": "code",
   "execution_count": 1,
   "metadata": {},
   "outputs": [
    {
     "ename": "NameError",
     "evalue": "name 'Car' is not defined",
     "output_type": "error",
     "traceback": [
      "\u001b[1;31m---------------------------------------------------------------------------\u001b[0m",
      "\u001b[1;31mNameError\u001b[0m                                 Traceback (most recent call last)",
      "Cell \u001b[1;32mIn[1], line 2\u001b[0m\n\u001b[0;32m      1\u001b[0m \u001b[38;5;66;03m# Task three\u001b[39;00m\n\u001b[1;32m----> 2\u001b[0m \u001b[38;5;28;01mclass\u001b[39;00m \u001b[38;5;21;01mElectricCar\u001b[39;00m(\u001b[43mCar\u001b[49m):\n\u001b[0;32m      3\u001b[0m     \u001b[38;5;28;01mdef\u001b[39;00m \u001b[38;5;21m__init__\u001b[39m(\u001b[38;5;28mself\u001b[39m, brand, model, year, mileage, battery_capacity):\n\u001b[0;32m      4\u001b[0m         \u001b[38;5;28msuper\u001b[39m()\u001b[38;5;241m.\u001b[39m\u001b[38;5;21m__init__\u001b[39m(brand, model, year, mileage)\n",
      "\u001b[1;31mNameError\u001b[0m: name 'Car' is not defined"
     ]
    }
   ],
   "source": [
    "# Task three\n",
    "class ElectricCar(Car):\n",
    "    def __init__(self, brand, model, year, mileage, battery_capacity):\n",
    "        super().__init__(brand, model, year, mileage)\n",
    "        self.battery_capacity = battery_capacity\n",
    "        self.charge_level = 0\n",
    "    \n",
    "    def charge(self, amount):\n",
    "        self.charge_level = min(100, self.charge_level + amount)\n",
    "    \n",
    "    def display_info(self):\n",
    "        super().display_info()\n",
    "        print(f\"Battery Capacity: {self.battery_capacity} kWh\")\n",
    "        print(f\"Charge Level: {self.charge_level}%\")\n",
    "\n",
    "electric_car = ElectricCar(\"Tesla\", \"Cybertruck\", 2019, 15000, 75)\n",
    "electric_car.charge(80)\n",
    "electric_car.display_info()\n",
    "print()\n",
    "\n",
    "#(c) The ElectricCar class exemplifies modularity by combining methods \n",
    "# and related features unique to electric vehicles. It demonstrates \n",
    "# inheritance-based reusability by incorporating its own unique features\n",
    "#  while reusing the Car class's methods and attributes. \n",
    "#Because new features particular to electric cars can be introduced to \n",
    "# ElectricCar without affecting the base Car class, maintainability is\n",
    "#  enhanced by the fact that modifications made to the base Car class will \n",
    "# naturally trickle down to ElectricCar."
   ]
  },
  {
   "cell_type": "code",
   "execution_count": 35,
   "metadata": {},
   "outputs": [
    {
     "name": "stdout",
     "output_type": "stream",
     "text": [
      "Car Information:\n",
      "Brand: Toyota\n",
      "Model: Corolla\n",
      "Year: 2020\n",
      "Mileage: 25100\n",
      "After driving 100 km...\n",
      "Car Information:\n",
      "Brand: Toyota\n",
      "Model: Corolla\n",
      "Year: 2020\n",
      "Mileage: 25200\n"
     ]
    }
   ],
   "source": [
    "def create_car(brand, model, year, mileage):\n",
    "    return {\n",
    "        \"brand\": brand,\n",
    "        \"model\": model,\n",
    "        \"year\": year,\n",
    "        \"mileage\": mileage\n",
    "    }\n",
    "\n",
    "def display_car_info(car):\n",
    "    print(f\"Car Information:\")\n",
    "    print(f\"Brand: {car['brand']}\")\n",
    "    print(f\"Model: {car['model']}\")\n",
    "    print(f\"Year: {car['year']}\")\n",
    "    print(f\"Mileage: {car['mileage']}\")\n",
    "\n",
    "def drive_car(car, distance):\n",
    "    car['mileage'] += distance\n",
    "    print(f\"After driving {distance} km...\")\n",
    "\n",
    "proc_car = create_car(\"Toyota\", \"Corolla\", 2020, 25100)\n",
    "display_car_info(proc_car)\n",
    "drive_car(proc_car, 100)\n",
    "display_car_info(proc_car)\n",
    "\n",
    "\n",
    "#4b. Comparison of OOP and Procedural approaches:\n",
    "\n",
    "#Differences noticed:\n",
    "#1. In OOP, data and methods are bundled together in a class, while in procedural programming, \n",
    " #  they are separate (functions operating on data structures).\n",
    "#2. OOP allows for inheritance (ElectricCar inheriting from Car), which is not directly \n",
    "#   possible in procedural programming.\n",
    "#3. In OOP, objects maintain their state, while in procedural programming, the state is \n",
    "#   passed around as parameters to functions.\n",
    "\n",
    "#Benefits of OOP:\n",
    "#1. Modularity: OOP encapsulates related data and behavior into objects, making the code more \n",
    "#   organized and easier to understand.\n",
    "#2. Reusability: Through inheritance, OOP allows code reuse. The ElectricCar class reuses all \n",
    "#   the functionality of the Car class.\n",
    "#3. Maintainability: Changes to a class affect all objects of that class, making it easier to \n",
    "#   update behavior. In procedural programming, you might need to update multiple functions."
   ]
  }
 ],
 "metadata": {
  "kernelspec": {
   "display_name": "Python 3",
   "language": "python",
   "name": "python3"
  },
  "language_info": {
   "codemirror_mode": {
    "name": "ipython",
    "version": 3
   },
   "file_extension": ".py",
   "mimetype": "text/x-python",
   "name": "python",
   "nbconvert_exporter": "python",
   "pygments_lexer": "ipython3",
   "version": "3.12.6"
  }
 },
 "nbformat": 4,
 "nbformat_minor": 2
}
