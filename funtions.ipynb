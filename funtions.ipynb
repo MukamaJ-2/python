{
 "cells": [
  {
   "cell_type": "code",
   "execution_count": 8,
   "metadata": {},
   "outputs": [
    {
     "name": "stdout",
     "output_type": "stream",
     "text": [
      "1\n",
      "2\n",
      "3\n"
     ]
    }
   ],
   "source": [
    "def simpleGeneratorFun():\n",
    "    yield 1            \n",
    "    yield 2            \n",
    "    yield 3            \n",
    " \n",
    "# Driver code to check above generator function\n",
    "for value in simpleGeneratorFun(): \n",
    "    print(value)"
   ]
  },
  {
   "cell_type": "code",
   "execution_count": 12,
   "metadata": {},
   "outputs": [
    {
     "name": "stdout",
     "output_type": "stream",
     "text": [
      "My name is Mukama Joseph\n",
      "The son of Musinguzi Jossy\n",
      "The grandson of Nyangaro Longino\n"
     ]
    }
   ],
   "source": [
    "def my_fun(*name):\n",
    "    print(\"My name is \" + name[1]+ \" \" + name[0])\n",
    "    print(\"The son of \" + name[4]+ \" \" + name[5])\n",
    "    print(\"The grandson of \" + name[2]+ \" \" + name[3])\n",
    "\n",
    "my_fun(\"Joseph\",\"Mukama\",\"Nyangaro\",\"Longino\",\"Musinguzi\",\"Jossy\")"
   ]
  },
  {
   "cell_type": "markdown",
   "metadata": {},
   "source": []
  }
 ],
 "metadata": {
  "kernelspec": {
   "display_name": "Python 3",
   "language": "python",
   "name": "python3"
  },
  "language_info": {
   "codemirror_mode": {
    "name": "ipython",
    "version": 3
   },
   "file_extension": ".py",
   "mimetype": "text/x-python",
   "name": "python",
   "nbconvert_exporter": "python",
   "pygments_lexer": "ipython3",
   "version": "3.12.6"
  }
 },
 "nbformat": 4,
 "nbformat_minor": 2
}
