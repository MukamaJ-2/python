{
 "cells": [
  {
   "cell_type": "code",
   "execution_count": 8,
   "metadata": {},
   "outputs": [
    {
     "name": "stdout",
     "output_type": "stream",
     "text": [
      "1\n",
      "2\n",
      "3\n"
     ]
    }
   ],
   "source": [
    "def simpleGeneratorFun():\n",
    "    yield 1            \n",
    "    yield 2            \n",
    "    yield 3            \n",
    " \n",
    "# Driver code to check above generator function\n",
    "for value in simpleGeneratorFun(): \n",
    "    print(value)"
   ]
  },
  {
   "cell_type": "code",
   "execution_count": 12,
   "metadata": {},
   "outputs": [
    {
     "name": "stdout",
     "output_type": "stream",
     "text": [
      "My name is Mukama Joseph\n",
      "The son of Musinguzi Jossy\n",
      "The grandson of Nyangaro Longino\n"
     ]
    }
   ],
   "source": [
    "def my_fun(*name):\n",
    "    print(\"My name is \" + name[1]+ \" \" + name[0])\n",
    "    print(\"The son of \" + name[4]+ \" \" + name[5])\n",
    "    print(\"The grandson of \" + name[2]+ \" \" + name[3])\n",
    "\n",
    "my_fun(\"Joseph\",\"Mukama\",\"Nyangaro\",\"Longino\",\"Musinguzi\",\"Jossy\")"
   ]
  },
  {
   "cell_type": "code",
   "execution_count": 1,
   "metadata": {},
   "outputs": [
    {
     "name": "stdout",
     "output_type": "stream",
     "text": [
      "1\n",
      "2\n",
      "3\n",
      "4\n",
      "5\n",
      "6\n",
      "7\n",
      "8\n"
     ]
    }
   ],
   "source": [
    "i = 1\n",
    "while i < 30:\n",
    "    print(i)\n",
    "    i = i + 1\n",
    "    if i ==9:\n",
    "        break"
   ]
  },
  {
   "cell_type": "code",
   "execution_count": 2,
   "metadata": {},
   "outputs": [
    {
     "name": "stdout",
     "output_type": "stream",
     "text": [
      "1\n",
      "2\n",
      "3\n",
      "4\n",
      "5\n",
      "6\n",
      "7\n",
      "8\n",
      "9\n",
      "10\n",
      "11\n",
      "12\n",
      "13\n",
      "14\n",
      "15\n",
      "16\n",
      "17\n",
      "18\n",
      "19\n",
      "20\n",
      "21\n",
      "22\n",
      "23\n",
      "24\n",
      "25\n",
      "26\n",
      "27\n",
      "28\n",
      "29\n"
     ]
    }
   ],
   "source": [
    "i = 1\n",
    "while i < 30:\n",
    "    print(i)\n",
    "    i = i + 1\n",
    "    if i ==9:\n",
    "        continue"
   ]
  },
  {
   "cell_type": "code",
   "execution_count": 3,
   "metadata": {},
   "outputs": [
    {
     "name": "stdout",
     "output_type": "stream",
     "text": [
      "Iam from Uganda\n",
      "Iam from Kenya\n",
      "Iam from Rwanda\n",
      "Iam from Burundi\n",
      "Iam from Tanzania\n",
      "Iam from South Sudan\n"
     ]
    }
   ],
   "source": [
    "def my_fn(country =\"Uganda\"):\n",
    "    print(\"Iam from \" + country)\n",
    "my_fn(\"Uganda\")\n",
    "my_fn(\"Kenya\")\n",
    "my_fn(\"Rwanda\")\n",
    "my_fn(\"Burundi\")\n",
    "my_fn(\"Tanzania\")\n",
    "my_fn(\"South Sudan\")\n"
   ]
  },
  {
   "cell_type": "code",
   "execution_count": null,
   "metadata": {},
   "outputs": [],
   "source": []
  },
  {
   "cell_type": "code",
   "execution_count": 1,
   "metadata": {},
   "outputs": [
    {
     "name": "stdout",
     "output_type": "stream",
     "text": [
      "\n",
      "\n",
      " Recursion Example Results\n",
      "1\n",
      "3\n",
      "6\n",
      "10\n",
      "15\n",
      "21\n",
      "28\n"
     ]
    },
    {
     "data": {
      "text/plain": [
       "28"
      ]
     },
     "execution_count": 1,
     "metadata": {},
     "output_type": "execute_result"
    }
   ],
   "source": [
    "def rec_fn(k):\n",
    "    if (k > 0):\n",
    "        result = k + rec_fn(k-1)\n",
    "        print(result)\n",
    "    else:\n",
    "        result = 0\n",
    "    return result\n",
    "\n",
    "print(\"\\n\\n Recursion Example Results\")\n",
    "rec_fn(7)"
   ]
  },
  {
   "cell_type": "markdown",
   "metadata": {},
   "source": []
  },
  {
   "cell_type": "code",
   "execution_count": 4,
   "metadata": {},
   "outputs": [
    {
     "name": "stdout",
     "output_type": "stream",
     "text": [
      "Sorted array\n",
      "11 12 22 25 64 "
     ]
    }
   ],
   "source": [
    "# Python program for implementation of Selection\n",
    "# Sort\n",
    "A = [64, 25, 12, 22, 11]\n",
    "\n",
    "# Traverse through all array elements\n",
    "for i in range(len(A)-1):\n",
    "    \n",
    "    # Find the minimum element in remaining \n",
    "    # unsorted array\n",
    "    min_idx = i\n",
    "    for j in range(i+1, len(A)):\n",
    "        if A[min_idx] > A[j]:\n",
    "            min_idx = j\n",
    "            \n",
    "    # Swap the found minimum element with \n",
    "    # the first element        \n",
    "    A[i], A[min_idx] = A[min_idx], A[i]\n",
    "\n",
    "# Driver code to test above\n",
    "print (\"Sorted array\")\n",
    "for i in range(len(A)):\n",
    "    print(A[i],end=\" \") "
   ]
  },
  {
   "cell_type": "code",
   "execution_count": 9,
   "metadata": {},
   "outputs": [
    {
     "name": "stdout",
     "output_type": "stream",
     "text": [
      "Am called Bob the first man on earth\n"
     ]
    }
   ],
   "source": [
    "class Person:\n",
    "    def __init__(self, fname, lname):\n",
    "        self.firstname = fname\n",
    "        self.lastname = lname\n",
    "    \n",
    "    def printname(self):\n",
    "        print(self.firstname, self.lastname)\n",
    "\n",
    "p = Person(\"Am called Bob\", \"the first man on earth\")\n",
    "p.printname()\n",
    "\n",
    "    "
   ]
  },
  {
   "cell_type": "markdown",
   "metadata": {},
   "source": [
    "INHERITANCE"
   ]
  },
  {
   "cell_type": "code",
   "execution_count": 10,
   "metadata": {},
   "outputs": [
    {
     "name": "stdout",
     "output_type": "stream",
     "text": [
      "My name is musinguzi Marcellinas aged 23 working as a software developer in Silicon Valley and i persued a Bachelors of Science in Computer Science Uganda Christian University\n"
     ]
    }
   ],
   "source": [
    "class Person:\n",
    "    def __init__(self, full_names, age, work_place, level_of_education, university_you_went_to):\n",
    "        self.your_names = full_names\n",
    "        self.your_age = age\n",
    "        self.your_work_place = work_place\n",
    "        self.your_level_of_education = level_of_education\n",
    "        self.your_university = university_you_went_to\n",
    "    def printname(self):\n",
    "        print(self.your_names, self.your_age, self.your_work_place, self.your_level_of_education, self.your_university)\n",
    "\n",
    "p = Person(\"My name is musinguzi Marcellinas\",\n",
    "            \"aged 23\",\n",
    "            \"working as a software developer in Silicon Valley\",\n",
    "            \"and i persued a Bachelors of Science in Computer Science\",\n",
    "             \"Uganda Christian University UCU\")\n",
    "p.printname()"
   ]
  },
  {
   "cell_type": "code",
   "execution_count": 1,
   "metadata": {},
   "outputs": [
    {
     "name": "stdout",
     "output_type": "stream",
     "text": [
      "2.8284271247461903\n"
     ]
    }
   ],
   "source": [
    "class Coordinate():\n",
    "    def __init__(self, x,y):\n",
    "        self.x = x\n",
    "        self.y = y\n",
    "    def distance(self, other):\n",
    "        x_diff_sq = (self.x-other.x)**2\n",
    "        y_diff_sq = (self.y-other.y)**2\n",
    "        return(x_diff_sq + y_diff_sq)**0.5\n",
    "    \n",
    "Object1 = Coordinate(3,4)\n",
    "Object2 = Coordinate(1,2)\n",
    "print(Object1.distance(Object2))"
   ]
  },
  {
   "cell_type": "code",
   "execution_count": 4,
   "metadata": {},
   "outputs": [
    {
     "name": "stdout",
     "output_type": "stream",
     "text": [
      "Sorted array: [0, 4, 6, 7, 8, 23, 34, 45, 65, 66]\n"
     ]
    }
   ],
   "source": [
    "# QUICK SORT\n",
    "def quick_sort(array):\n",
    "    # base case : if array has 1 or 0 elements\n",
    "    # it is already sorted\n",
    "    if len(array)<=1:\n",
    "        return array\n",
    "    \n",
    "    #step1: Choose a pivot\n",
    "    pivot = array[len(array)//2]\n",
    "\n",
    "    #step2: partition the array into three parts\n",
    "    left = [x for x in array if x < pivot]\n",
    "    middle = [x for x in array if x==pivot]\n",
    "    right = [x for x in array if x >pivot]\n",
    "\n",
    "    #step3: recursively sort the left and right\n",
    "    return quick_sort(left)+ middle + quick_sort(right)\n",
    "array = [23,4,34,65,6,7,8,45,66,0]\n",
    "sorted_array = quick_sort(array)\n",
    "print (\"Sorted array:\", sorted_array)"
   ]
  },
  {
   "cell_type": "markdown",
   "metadata": {},
   "source": [
    "\n"
   ]
  },
  {
   "cell_type": "code",
   "execution_count": 5,
   "metadata": {},
   "outputs": [
    {
     "name": "stdout",
     "output_type": "stream",
     "text": [
      "[3, 4, 23, 33, 433, 556, 6777]\n"
     ]
    }
   ],
   "source": [
    "def quick_sort(array):\n",
    "    if len(array)<= 1:\n",
    "      return array\n",
    "    \n",
    "    pivot = array[len(array)//2]\n",
    "    left = [x for x in array if x<pivot]\n",
    "    right = [x for x in array if x>pivot]\n",
    "    middle = [x for x in array if x ==pivot]\n",
    "    return quick_sort(left) + middle + quick_sort(right)\n",
    "array = [23,4,3,33,556,6777,433]\n",
    "sorted_array = quick_sort(array)\n",
    "print(sorted_array)\n"
   ]
  },
  {
   "cell_type": "code",
   "execution_count": 7,
   "metadata": {},
   "outputs": [
    {
     "name": "stdout",
     "output_type": "stream",
     "text": [
      "Rolled: 2\n",
      "Rolled: 5\n",
      "Rolled: 4\n"
     ]
    }
   ],
   "source": [
    "import random\n",
    "\n",
    "class Dice:\n",
    "    def __init__(self):\n",
    "        self.current_value = None\n",
    "\n",
    "    def roll(self):\n",
    "        self.current_value = random.randint(1, 6)\n",
    "        return self.current_value\n",
    "\n",
    "# Usage example\n",
    "dice = Dice()\n",
    "\n",
    "for _ in range(3):\n",
    "    print(f\"Rolled: {dice.roll()}\")"
   ]
  },
  {
   "cell_type": "code",
   "execution_count": 11,
   "metadata": {},
   "outputs": [
    {
     "name": "stdout",
     "output_type": "stream",
     "text": [
      "Happy Birthday to You\n",
      "Happy Birthday to You\n",
      "Happy Birthday, Dear Joshua,\n",
      "Happy Birthday to You\n"
     ]
    }
   ],
   "source": [
    "def print_birthday():\n",
    "    print(\"Happy Birthday to You\")\n",
    "    print(\"Happy Birthday to You\")\n",
    "    print(\"Happy Birthday, Dear Joshua,\")\n",
    "    print(\"Happy Birthday to You\")\n",
    "\n",
    "print_birthday()"
   ]
  },
  {
   "cell_type": "code",
   "execution_count": 12,
   "metadata": {},
   "outputs": [
    {
     "name": "stdout",
     "output_type": "stream",
     "text": [
      "Happy birthday to you\n",
      "Happy birthday to you\n",
      "Happy birthday to you\n",
      "dddddd\n"
     ]
    }
   ],
   "source": [
    "def singHbd ():\n",
    "    print(\"Happy birthday to you\")\n",
    "def singingBD(name):\n",
    "    singHbd ()\n",
    "    singHbd ()\n",
    "    singHbd ()\n",
    "    print(\"dddddd\")\n",
    "\n",
    "singingBD(\"Joseph\")\n"
   ]
  },
  {
   "cell_type": "code",
   "execution_count": 23,
   "metadata": {},
   "outputs": [
    {
     "name": "stdout",
     "output_type": "stream",
     "text": [
      "Joseph Joseph Joseph Joseph\n"
     ]
    }
   ],
   "source": [
    "class Dice:\n",
    "    def __init__(self, a, b, c, d):\n",
    "        self.a = a\n",
    "        self.b = b\n",
    "        self.c = c\n",
    "        self.d = d\n",
    "    def roll(self):\n",
    "        print(self.a,self.b,self.c,self.d)\n",
    "d = Dice(\"Joseph\",\"Joseph\",\"Joseph\",\"Joseph\")\n",
    "d.roll()\n",
    "\n"
   ]
  },
  {
   "cell_type": "code",
   "execution_count": 38,
   "metadata": {},
   "outputs": [
    {
     "name": "stdout",
     "output_type": "stream",
     "text": [
      "Telsa Cybertruck 2019 15000\n",
      "Honda Civic 2018 14000\n",
      "Nissan Altima 2021 12000\n"
     ]
    }
   ],
   "source": [
    "class Car:\n",
    "    def __init__(self,brand,model,year,mileage):\n",
    "        self.brand = brand\n",
    "        self.model = model\n",
    "        self.year = year\n",
    "        self.mileage = mileage\n",
    "    def display_info(self):\n",
    "        print(self.brand, self.model, self.year, self.mileage)\n",
    "\n",
    "    def drive(self, distance):\n",
    "        self.mileage += distance\n",
    "        print(f\"After driving {distance} km...\")\n",
    "        \n",
    "Car1 = Car(\"Telsa\",\"Cybertruck\", 2019, 15000)\n",
    "Car2 = Car(\"Honda\",\"Civic\", 2018, 14000)\n",
    "Car3 = Car(\"Nissan\",\"Altima\", 2021, 12000)\n",
    "Car1.display_info()\n",
    "Car2.display_info()\n",
    "Car3.display_info()\n"
   ]
  },
  {
   "cell_type": "code",
   "execution_count": 46,
   "metadata": {},
   "outputs": [
    {
     "name": "stdout",
     "output_type": "stream",
     "text": [
      "Car Information:\n",
      "Brand: Toyota\n",
      "Model: Corolla\n",
      "Year: 2020\n",
      "Mileage: 15000\n",
      "\n",
      "After driving 100 km... 🚗💨\n",
      "Car Information:\n",
      "Brand: Toyota\n",
      "Model: Corolla\n",
      "Year: 2020\n",
      "Mileage: 15100\n",
      "\n",
      "Car Information:\n",
      "Brand: Toyota\n",
      "Model: Corolla\n",
      "Year: 2020\n",
      "Mileage: 156000\n",
      "\n",
      "After driving 100 km... 🚗💨\n",
      "Car Information:\n",
      "Brand: Toyota\n",
      "Model: Corolla\n",
      "Year: 2020\n",
      "Mileage: 156100\n",
      "\n"
     ]
    }
   ],
   "source": [
    "# Add the drive method and update display_info\n",
    "class Car:\n",
    "    def __init__(self, brand, model, year, mileage):\n",
    "        self.brand = brand\n",
    "        self.model = model\n",
    "        self.year = year\n",
    "        self.mileage = mileage\n",
    "\n",
    "    def drive(self, distance):\n",
    "        self.mileage += distance\n",
    "\n",
    "    def display_info(self):\n",
    "        print(f\"Car Information:\\nBrand: {self.brand}\\nModel: {self.model}\\nYear: {self.year}\\nMileage: {self.mileage}\\n\")\n",
    "\n",
    "\n",
    "# Create a car and go for a drive!\n",
    "car1 = Car(\"Toyota\", \"Corolla\", 2020, 15000)\n",
    "car1.display_info()\n",
    "print(\"After driving 100 km... 🚗💨\")\n",
    "car1.drive(100)\n",
    "car1.display_info()\n",
    "#car2\n",
    "car2 = Car(\"Toyota\", \"Corolla\", 2020, 156000)\n",
    "car2.display_info()\n",
    "print(\"After driving 100 km... 🚗💨\")\n",
    "car2.drive(100)\n",
    "car2.display_info()"
   ]
  },
  {
   "cell_type": "code",
   "execution_count": 45,
   "metadata": {},
   "outputs": [
    {
     "ename": "SyntaxError",
     "evalue": "invalid syntax (2932385369.py, line 1)",
     "output_type": "error",
     "traceback": [
      "\u001b[1;36m  Cell \u001b[1;32mIn[45], line 1\u001b[1;36m\u001b[0m\n\u001b[1;33m    Structured Programming for Car Management\u001b[0m\n\u001b[1;37m               ^\u001b[0m\n\u001b[1;31mSyntaxError\u001b[0m\u001b[1;31m:\u001b[0m invalid syntax\n"
     ]
    }
   ],
   "source": [
    " Structured Programming for Car Management\n",
    "\n",
    "# List to store all cars\n",
    "all_cars = []\n",
    "\n",
    "def create_car(brand, model, year, mileage=0):\n",
    "    \"\"\"Create a car and add it to the list of all cars.\"\"\"\n",
    "    car = {\n",
    "        'brand': brand,\n",
    "        'model': model,\n",
    "        'year': year,\n",
    "        'mileage': mileage\n",
    "    }\n",
    "    all_cars.append(car)\n",
    "\n",
    "def display_info(car):\n",
    "    \"\"\"Display car specifications.\"\"\"\n",
    "    fullname = (f'THE CAR SPECIFICATIONS:\\n'\n",
    "                f'Brand: {car[\"brand\"]}\\n'\n",
    "                f'Model: {car[\"model\"]}\\n'\n",
    "                f'Year: {car[\"year\"]}\\n'\n",
    "                f'Car Mileage: {car[\"mileage\"]} km')\n",
    "    \n",
    "    print('_' * 50)\n",
    "    print(fullname)\n",
    "    print('_' * 50)\n",
    "\n",
    "def drive(car, distance):\n",
    "    \"\"\"Update the mileage of the car after driving a certain distance.\"\"\"\n",
    "    try:\n",
    "        car['mileage'] += distance\n",
    "    except TypeError as e:\n",
    "        print(\"An error occurred:\", e)\n",
    "\n",
    "def save_cars_to_file(filename='Car_Storage.txt'):\n",
    "    \"\"\"Save car data to a text file.\"\"\"\n",
    "    with open(filename, 'w') as f:\n",
    "        for car in all_cars:\n",
    "            f.write(f\"{car['brand']},{car['model']},{car['year']}\\n\")\n",
    "    reset_car_list()\n",
    "    \n",
    "    # Read the file content to verify\n",
    "    with open(filename, 'r') as f:\n",
    "        content = f.read()\n",
    "    print(content)\n",
    "\n",
    "def reset_car_list():\n",
    "    \"\"\"Clear the list of all cars.\"\"\"\n",
    "    all_cars.clear()\n",
    "\n",
    "def load_data_to_car_list(filename='Car_Storage.txt'):\n",
    "    \"\"\"Load car data from a text file into the list.\"\"\"\n",
    "    try:\n",
    "        with open(filename, 'r') as f:\n",
    "            for line in f:\n",
    "                brand, model, year = line.strip().split(\",\")\n",
    "                year = int(year)\n",
    "                if not any(car['brand'] == brand and car['model'] == model and car['year'] == year for car in all_cars):\n",
    "                    create_car(brand, model, year)\n",
    "    except FileNotFoundError:\n",
    "        print('Car_Storage.txt not found, data not loaded')\n",
    "    except Exception as e:\n",
    "        print('Something went wrong:', e)\n",
    "\n",
    "# Electric Car functions\n",
    "def create_electric_car(brand, model, year, mileage, battery_capacity, charge_level):\n",
    "    \"\"\"Create an electric car and add it to the list of all cars.\"\"\"\n",
    "    electric_car = {\n",
    "        'brand': brand,\n",
    "        'model': model,\n",
    "        'year': year,\n",
    "        'mileage': mileage,\n",
    "        'battery_capacity': battery_capacity,\n",
    "        'charge_level': charge_level\n",
    "    }\n",
    "    all_cars.append(electric_car)\n",
    "\n",
    "def charge(electric_car, amount):\n",
    "    \"\"\"Charge the electric car's battery.\"\"\"\n",
    "    electric_car['charge_level'] += amount\n",
    "    if electric_car['charge_level'] >= 100:\n",
    "        electric_car['charge_level'] = 100\n",
    "    print(f'Charged up to {electric_car[\"charge_level\"]}%')\n",
    "\n",
    "# Example Usage\n",
    "create_car(\"Toyota\", \"Corolla\", 2020, 15000)\n",
    "create_car(\"Honda\", \"Civic\", 2019, 20000)\n",
    "create_car(\"Ford\", \"Mustang\", 2021, 5000)\n",
    "\n",
    "# Display all cars\n",
    "for car in all_cars:\n",
    "    display_info(car)\n",
    "\n",
    "# Drive one car only if the list is not empty\n",
    "if all_cars:\n",
    "    drive(all_cars[0], 100)\n",
    "    display_info(all_cars[0])\n",
    "else:\n",
    "    print(\"No cars available to drive.\")\n",
    "\n",
    "# Save cars to file\n",
    "save_cars_to_file()\n",
    "\n",
    "# Load cars from file\n",
    "load_data_to_car_list()\n",
    "\n",
    "# Create and charge an electric car\n",
    "create_electric_car(\"Tesla\", \"Model 3\", 2022, 1500, 75, 50)\n",
    "charge(all_cars[-1], 30)\n",
    "display_info(all_cars[-1])"
   ]
  },
  {
   "cell_type": "code",
   "execution_count": 44,
   "metadata": {},
   "outputs": [],
   "source": [
    "class Car:\n",
    "    all_cars = []\n",
    "    def _init_(self, brand, model, year, mileage = 0):\n",
    "        self.brand = brand\n",
    "        self.model = model\n",
    "        self.year = year\n",
    "        self.mileage = mileage\n",
    "        Car.all_cars.append(self)\n",
    "\n",
    "    @property\n",
    "    def display_info(self):\n",
    "        fullname = 'THE CAR SPECIFICATIONS:\\nBrand: %s\\nModel: %s\\nYear: %d \\nCar Mileage: %d-Km'\\\n",
    "              %(self.brand, self.model,self.year, self.mileage)\n",
    "        print('_'*50)\n",
    "        print(fullname)\n",
    "        print('_'*50)\n",
    "    \n",
    "    def _repr_(self):\n",
    "        try:\n",
    "            return '%s %s %d' %(self.brand,self.model,self.year)\n",
    "        except TypeError:\n",
    "            print('There is a type error with your entries!')\n",
    "\n",
    "    def drive(self, distance):\n",
    "        try:\n",
    "            self.mileage += distance\n",
    "        except TypeError as e:\n",
    "            print(\"An error occured!:\", e)\n",
    "        \n",
    "    @classmethod\n",
    "    def Save_car_to_text_file(cls):\n",
    "        with open('Car_Storage.txt', 'w') as f:\n",
    "            for car in cls.all_cars:\n",
    "                f.write(f'{car.brand},{car.model},{int(car.year)} \\n')\n",
    "            cls.Reset_car_list()    \n",
    "        with open('Car_Storage.txt', 'r') as f:\n",
    "            content = f.read()\n",
    "        print(content)\n",
    "        \n",
    "    @classmethod\n",
    "    def Reset_car_list(cls):\n",
    "       cls.all_cars.clear()\n",
    "\n",
    "    @classmethod\n",
    "    def load_Data_to_Car_list(cls):\n",
    "        try:\n",
    "            with open('Car_Storage.txt', 'r') as f:\n",
    "                for line in f:\n",
    "                    \n",
    "                    brand, model, year = line.strip().split(\",\")\n",
    "                    year = int(year)\n",
    "                    if not any(car.brand == brand and car.model == model and \n",
    "                               car.year == year for car in cls.all_cars):\n",
    "                        cls.all_cars.append(Car(brand, model, int(year)))\n",
    "        except FileNotFoundError:\n",
    "            print('Car_Storage.txt not found, data not loaded')\n",
    "        except Exception:\n",
    "            print('Some thing wrong happen!')\n",
    "            \n",
    "\n",
    "                \n",
    "class ElectricCar(Car):\n",
    "    def _init_(self, brand, model, year, mileage, battery_capacity, charge_level):\n",
    "        super()._init_(brand, model, year, mileage)\n",
    "        self.battery_capacity = battery_capacity\n",
    "        self.charge_level = charge_level\n",
    "\n",
    "    def charge(self, amount):\n",
    "        self.charge_level += amount\n",
    "        if self.charge_level >= 100:\n",
    "            self.charge_level = 100\n",
    "        print(f'Cahrged up to {self.charge_level}%')"
   ]
  },
  {
   "cell_type": "code",
   "execution_count": 14,
   "metadata": {},
   "outputs": [
    {
     "data": {
      "text/plain": [
       "4"
      ]
     },
     "execution_count": 14,
     "metadata": {},
     "output_type": "execute_result"
    }
   ],
   "source": [
    "# function search(A,K)\n",
    "def search(A,K):\n",
    " # i = 0;\n",
    " i = 0\n",
    " # while i < n and A[i] != K do i = i+1;\n",
    " while i<len(A) and A[i]!=K:\n",
    "   i = i+1\n",
    " \n",
    " # if i < n return i;\n",
    " if i < len(A):\n",
    "  return i\n",
    " # else return -1;\n",
    " else:\n",
    "  return -1\n",
    "A = [74,32, 89, 55, 21, 64]\n",
    "k = 21\n",
    "search(A,k) # output: 4"
   ]
  },
  {
   "cell_type": "code",
   "execution_count": 28,
   "metadata": {},
   "outputs": [
    {
     "name": "stdout",
     "output_type": "stream",
     "text": [
      "[21, 23, 32, 33, 43]\n"
     ]
    }
   ],
   "source": [
    "def quick_sort(A):\n",
    "    if len(A)<= 1:\n",
    "        return A\n",
    "    pivot = A[len(A)//2]\n",
    "    left = [x for x in A if x< pivot]\n",
    "    right = [x for x in A if x> pivot]\n",
    "    middle = [x for x in A if x == pivot]\n",
    "    return quick_sort(left) + middle + quick_sort(right)\n",
    "A = []\n",
    "sorted_array = quick_sort(A)\n",
    "print(sorted_array)"
   ]
  },
  {
   "cell_type": "code",
   "execution_count": 30,
   "metadata": {},
   "outputs": [
    {
     "name": "stdout",
     "output_type": "stream",
     "text": [
      "Sorted array: [-9, -4, -1, 10, 12, 18, 22, 27, 30, 36, 50, 90]\n"
     ]
    }
   ],
   "source": [
    "def sorting(A):\n",
    "    n = len(A)\n",
    "    for i in range(n):\n",
    "        for j in range(0, n - i - 1):\n",
    "            if A[j] > A[j + 1]:  # Corrected typo from Aljl to A[j]\n",
    "                A[j], A[j + 1] = A[j + 1], A[j]  # Corrected syntax\n",
    "    return A\n",
    "\n",
    "A = [-9, -4, -1, 10, 12, 18, 22, 27, 30, 36, 50, 90]\n",
    "sorted_A = sorting(A)\n",
    "print(\"Sorted array:\", sorted_A)"
   ]
  },
  {
   "cell_type": "code",
   "execution_count": 33,
   "metadata": {},
   "outputs": [
    {
     "name": "stdout",
     "output_type": "stream",
     "text": [
      "Sorted array: [-9, -4, -1, 10, 12, 18, 22, 27, 30, 36, 50, 90]\n"
     ]
    }
   ],
   "source": [
    "def sorting(A):\n",
    "    n = len(A)\n",
    "    for i in range(n):\n",
    "        for j in range(0, n - i - 1):\n",
    "            if A[j] > A[j + 1]:  # Corrected typo from Aljl to A[j]\n",
    "                A[j], A[j + 1] = A[j + 1], A[j]  # Corrected syntax\n",
    "    return A\n",
    "\n",
    "A = [22, 18, 12, -4, 27, 30, 36, 50, -9, 90, 10, -1]\n",
    "sorted_A = sorting(A)\n",
    "print(\"Sorted array:\", sorted_A)"
   ]
  },
  {
   "cell_type": "code",
   "execution_count": 34,
   "metadata": {},
   "outputs": [
    {
     "ename": "TypeError",
     "evalue": "'list' object is not callable",
     "output_type": "error",
     "traceback": [
      "\u001b[1;31m---------------------------------------------------------------------------\u001b[0m",
      "\u001b[1;31mTypeError\u001b[0m                                 Traceback (most recent call last)",
      "Cell \u001b[1;32mIn[34], line 11\u001b[0m\n\u001b[0;32m      9\u001b[0m \u001b[38;5;66;03m# Generating different datasets\u001b[39;00m\n\u001b[0;32m     10\u001b[0m random_data \u001b[38;5;241m=\u001b[39m [random\u001b[38;5;241m.\u001b[39mrandint(\u001b[38;5;241m-\u001b[39m\u001b[38;5;241m100\u001b[39m, \u001b[38;5;241m100\u001b[39m) \u001b[38;5;28;01mfor\u001b[39;00m _ \u001b[38;5;129;01min\u001b[39;00m \u001b[38;5;28mrange\u001b[39m(\u001b[38;5;241m1000\u001b[39m)]\n\u001b[1;32m---> 11\u001b[0m sorted_data \u001b[38;5;241m=\u001b[39m \u001b[38;5;28;43mlist\u001b[39;49m\u001b[43m(\u001b[49m\u001b[38;5;28;43mrange\u001b[39;49m\u001b[43m(\u001b[49m\u001b[38;5;241;43m1000\u001b[39;49m\u001b[43m)\u001b[49m\u001b[43m)\u001b[49m\n\u001b[0;32m     12\u001b[0m reverse_sorted_data \u001b[38;5;241m=\u001b[39m \u001b[38;5;28mlist\u001b[39m(\u001b[38;5;28mrange\u001b[39m(\u001b[38;5;241m1000\u001b[39m, \u001b[38;5;241m0\u001b[39m, \u001b[38;5;241m-\u001b[39m\u001b[38;5;241m1\u001b[39m))\n\u001b[0;32m     13\u001b[0m identical_data \u001b[38;5;241m=\u001b[39m [\u001b[38;5;241m5\u001b[39m] \u001b[38;5;241m*\u001b[39m \u001b[38;5;241m1000\u001b[39m\n",
      "\u001b[1;31mTypeError\u001b[0m: 'list' object is not callable"
     ]
    }
   ],
   "source": [
    "import time\n",
    "import random\n",
    "\n",
    "def test_sorting_algorithm(sort_func, test_data):\n",
    "    start_time = time.time()\n",
    "    sort_func(test_data)\n",
    "    return time.time() - start_time\n",
    "\n",
    "# Generating different datasets\n",
    "random_data = [random.randint(-100, 100) for _ in range(1000)]\n",
    "sorted_data = list(range(1000))\n",
    "reverse_sorted_data = list(range(1000, 0, -1))\n",
    "identical_data = [5] * 1000\n",
    "\n",
    "# Testing the sorting algorithm\n",
    "print(\"Testing Bubble Sort:\")\n",
    "print(\"Random dataset time:\", test_sorting_algorithm(sorting, random_data.copy()))\n",
    "print(\"Sorted dataset time:\", test_sorting_algorithm(sorting, sorted_data.copy()))\n",
    "print(\"Reverse sorted dataset time:\", test_sorting_algorithm(sorting, reverse_sorted_data.copy()))\n",
    "print(\"Identical dataset time:\", test_sorting_algorithm(sorting, identical_data.copy()))\n"
   ]
  },
  {
   "cell_type": "code",
   "execution_count": 20,
   "metadata": {},
   "outputs": [
    {
     "name": "stdout",
     "output_type": "stream",
     "text": [
      "Target 7 found at index: 3\n"
     ]
    }
   ],
   "source": [
    "def binary_search(arr, target):\n",
    "    left = 0\n",
    "    right = len(arr) - 1\n",
    "    \n",
    "    while left <= right:\n",
    "        mid = (left + right) // 2\n",
    "        \n",
    "        if arr[mid] == target:\n",
    "            return mid\n",
    "        elif arr[mid] < target:\n",
    "            left = mid + 1\n",
    "        else:\n",
    "            right = mid - 1\n",
    "    \n",
    "    return -1  # Target not found\n",
    "\n",
    "# Example usage\n",
    "sorted_array = [1, 3, 5, 7, 9, 11, 13, 15, 17]\n",
    "target = 7\n",
    "result = binary_search(sorted_array, target)\n",
    "\n",
    "print(f\"Target {target} found at index: {result}\")"
   ]
  },
  {
   "cell_type": "code",
   "execution_count": 29,
   "metadata": {},
   "outputs": [
    {
     "name": "stdout",
     "output_type": "stream",
     "text": [
      "the target found at: 3\n"
     ]
    }
   ],
   "source": [
    "def search(list,target):\n",
    "    for i in range (len(list)):\n",
    "        if list[i] == target:\n",
    "            return f\"the target found at: {i}\"\n",
    "    return\"not\"\n",
    "\n",
    "list = [4,2,6,77,8,99]\n",
    "target = 77\n",
    "result = search(list,target)\n",
    "print(result)"
   ]
  },
  {
   "cell_type": "code",
   "execution_count": null,
   "metadata": {},
   "outputs": [],
   "source": [
    "def check_leap_year(year):\n",
    "    \"\"\"\n",
    "    Checks if a year is a leap year.\n",
    "\n",
    "    Args:\n",
    "        year (int): The year to check.\n",
    "\n",
    "    Returns:\n",
    "        bool: True if leap year, False otherwise.\n",
    "    \"\"\"\n",
    "    return (year % 4 == 0 and year % 100 != 0) or (year % 400 == 0)\n",
    "\n",
    "def days_in_february(year):\n",
    "    \"\"\"\n",
    "    Returns the number of days in February for a given year.\n",
    "\n",
    "    Args:\n",
    "        year (int): The year to check.\n",
    "\n",
    "    Returns:\n",
    "        int: 28 if not a leap year, 29 if a leap year.\n",
    "    \"\"\"\n",
    "    if check_leap_year(year):\n",
    "        return 29\n",
    "    else:\n",
    "        return 28\n",
    "\n",
    "# Get user input for the year with basic validation\n",
    "try:\n",
    "    year = int(input(\"Enter a year: \"))\n",
    "except ValueError:\n",
    "    print(\"Invalid input! Please enter a valid integer.\")\n",
    "else:\n",
    "    # Check if the year is a leap year\n",
    "    if check_leap_year(year):\n",
    "        print(f\"{year} is a leap year.\")\n",
    "    else:\n",
    "        print(f\"{year} is not a leap year.\")\n",
    "\n",
    "    # Calculate and print the number of days in February\n",
    "    print(f\"February {year} has {days_in_february(year)} days.\")\n"
   ]
  }
 ],
 "metadata": {
  "kernelspec": {
   "display_name": "Python 3",
   "language": "python",
   "name": "python3"
  },
  "language_info": {
   "codemirror_mode": {
    "name": "ipython",
    "version": 3
   },
   "file_extension": ".py",
   "mimetype": "text/x-python",
   "name": "python",
   "nbconvert_exporter": "python",
   "pygments_lexer": "ipython3",
   "version": "3.12.6"
  }
 },
 "nbformat": 4,
 "nbformat_minor": 2
}
