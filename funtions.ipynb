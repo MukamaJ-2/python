{
 "cells": [
  {
   "cell_type": "code",
   "execution_count": 8,
   "metadata": {},
   "outputs": [
    {
     "name": "stdout",
     "output_type": "stream",
     "text": [
      "1\n",
      "2\n",
      "3\n"
     ]
    }
   ],
   "source": [
    "def simpleGeneratorFun():\n",
    "    yield 1            \n",
    "    yield 2            \n",
    "    yield 3            \n",
    " \n",
    "# Driver code to check above generator function\n",
    "for value in simpleGeneratorFun(): \n",
    "    print(value)"
   ]
  },
  {
   "cell_type": "code",
   "execution_count": 12,
   "metadata": {},
   "outputs": [
    {
     "name": "stdout",
     "output_type": "stream",
     "text": [
      "My name is Mukama Joseph\n",
      "The son of Musinguzi Jossy\n",
      "The grandson of Nyangaro Longino\n"
     ]
    }
   ],
   "source": [
    "def my_fun(*name):\n",
    "    print(\"My name is \" + name[1]+ \" \" + name[0])\n",
    "    print(\"The son of \" + name[4]+ \" \" + name[5])\n",
    "    print(\"The grandson of \" + name[2]+ \" \" + name[3])\n",
    "\n",
    "my_fun(\"Joseph\",\"Mukama\",\"Nyangaro\",\"Longino\",\"Musinguzi\",\"Jossy\")"
   ]
  },
  {
   "cell_type": "code",
   "execution_count": 1,
   "metadata": {},
   "outputs": [
    {
     "name": "stdout",
     "output_type": "stream",
     "text": [
      "1\n",
      "2\n",
      "3\n",
      "4\n",
      "5\n",
      "6\n",
      "7\n",
      "8\n"
     ]
    }
   ],
   "source": [
    "i = 1\n",
    "while i < 30:\n",
    "    print(i)\n",
    "    i = i + 1\n",
    "    if i ==9:\n",
    "        break"
   ]
  },
  {
   "cell_type": "code",
   "execution_count": 2,
   "metadata": {},
   "outputs": [
    {
     "name": "stdout",
     "output_type": "stream",
     "text": [
      "1\n",
      "2\n",
      "3\n",
      "4\n",
      "5\n",
      "6\n",
      "7\n",
      "8\n",
      "9\n",
      "10\n",
      "11\n",
      "12\n",
      "13\n",
      "14\n",
      "15\n",
      "16\n",
      "17\n",
      "18\n",
      "19\n",
      "20\n",
      "21\n",
      "22\n",
      "23\n",
      "24\n",
      "25\n",
      "26\n",
      "27\n",
      "28\n",
      "29\n"
     ]
    }
   ],
   "source": [
    "i = 1\n",
    "while i < 30:\n",
    "    print(i)\n",
    "    i = i + 1\n",
    "    if i ==9:\n",
    "        continue"
   ]
  },
  {
   "cell_type": "code",
   "execution_count": 3,
   "metadata": {},
   "outputs": [
    {
     "name": "stdout",
     "output_type": "stream",
     "text": [
      "Iam from Uganda\n",
      "Iam from Kenya\n",
      "Iam from Rwanda\n",
      "Iam from Burundi\n",
      "Iam from Tanzania\n",
      "Iam from South Sudan\n"
     ]
    }
   ],
   "source": [
    "def my_fn(country =\"Uganda\"):\n",
    "    print(\"Iam from \" + country)\n",
    "my_fn(\"Uganda\")\n",
    "my_fn(\"Kenya\")\n",
    "my_fn(\"Rwanda\")\n",
    "my_fn(\"Burundi\")\n",
    "my_fn(\"Tanzania\")\n",
    "my_fn(\"South Sudan\")\n"
   ]
  },
  {
   "cell_type": "code",
   "execution_count": null,
   "metadata": {},
   "outputs": [],
   "source": []
  },
  {
   "cell_type": "code",
   "execution_count": 1,
   "metadata": {},
   "outputs": [
    {
     "name": "stdout",
     "output_type": "stream",
     "text": [
      "\n",
      "\n",
      " Recursion Example Results\n",
      "1\n",
      "3\n",
      "6\n",
      "10\n",
      "15\n",
      "21\n",
      "28\n"
     ]
    },
    {
     "data": {
      "text/plain": [
       "28"
      ]
     },
     "execution_count": 1,
     "metadata": {},
     "output_type": "execute_result"
    }
   ],
   "source": [
    "def rec_fn(k):\n",
    "    if (k > 0):\n",
    "        result = k + rec_fn(k-1)\n",
    "        print(result)\n",
    "    else:\n",
    "        result = 0\n",
    "    return result\n",
    "\n",
    "print(\"\\n\\n Recursion Example Results\")\n",
    "rec_fn(7)"
   ]
  },
  {
   "cell_type": "markdown",
   "metadata": {},
   "source": []
  },
  {
   "cell_type": "code",
   "execution_count": 4,
   "metadata": {},
   "outputs": [
    {
     "name": "stdout",
     "output_type": "stream",
     "text": [
      "Sorted array\n",
      "11 12 22 25 64 "
     ]
    }
   ],
   "source": [
    "# Python program for implementation of Selection\n",
    "# Sort\n",
    "A = [64, 25, 12, 22, 11]\n",
    "\n",
    "# Traverse through all array elements\n",
    "for i in range(len(A)-1):\n",
    "    \n",
    "    # Find the minimum element in remaining \n",
    "    # unsorted array\n",
    "    min_idx = i\n",
    "    for j in range(i+1, len(A)):\n",
    "        if A[min_idx] > A[j]:\n",
    "            min_idx = j\n",
    "            \n",
    "    # Swap the found minimum element with \n",
    "    # the first element        \n",
    "    A[i], A[min_idx] = A[min_idx], A[i]\n",
    "\n",
    "# Driver code to test above\n",
    "print (\"Sorted array\")\n",
    "for i in range(len(A)):\n",
    "    print(A[i],end=\" \") "
   ]
  },
  {
   "cell_type": "code",
   "execution_count": 9,
   "metadata": {},
   "outputs": [
    {
     "name": "stdout",
     "output_type": "stream",
     "text": [
      "Am called Bob the first man on earth\n"
     ]
    }
   ],
   "source": [
    "class Person:\n",
    "    def __init__(self, fname, lname):\n",
    "        self.firstname = fname\n",
    "        self.lastname = lname\n",
    "    \n",
    "    def printname(self):\n",
    "        print(self.firstname, self.lastname)\n",
    "\n",
    "p = Person(\"Am called Bob\", \"the first man on earth\")\n",
    "p.printname()\n",
    "\n",
    "    "
   ]
  },
  {
   "cell_type": "markdown",
   "metadata": {},
   "source": [
    "INHERITANCE"
   ]
  },
  {
   "cell_type": "code",
   "execution_count": 10,
   "metadata": {},
   "outputs": [
    {
     "name": "stdout",
     "output_type": "stream",
     "text": [
      "My name is musinguzi Marcellinas aged 23 working as a software developer in Silicon Valley and i persued a Bachelors of Science in Computer Science Uganda Christian University\n"
     ]
    }
   ],
   "source": [
    "class Person:\n",
    "    def __init__(self, full_names, age, work_place, level_of_education, university_you_went_to):\n",
    "        self.your_names = full_names\n",
    "        self.your_age = age\n",
    "        self.your_work_place = work_place\n",
    "        self.your_level_of_education = level_of_education\n",
    "        self.your_university = university_you_went_to\n",
    "    def printname(self):\n",
    "        print(self.your_names, self.your_age, self.your_work_place, self.your_level_of_education, self.your_university)\n",
    "\n",
    "p = Person(\"My name is musinguzi Marcellinas\",\n",
    "            \"aged 23\",\n",
    "            \"working as a software developer in Silicon Valley\",\n",
    "            \"and i persued a Bachelors of Science in Computer Science\",\n",
    "             \"Uganda Christian University UCU\")\n",
    "p.printname()"
   ]
  }
 ],
 "metadata": {
  "kernelspec": {
   "display_name": "Python 3",
   "language": "python",
   "name": "python3"
  },
  "language_info": {
   "codemirror_mode": {
    "name": "ipython",
    "version": 3
   },
   "file_extension": ".py",
   "mimetype": "text/x-python",
   "name": "python",
   "nbconvert_exporter": "python",
   "pygments_lexer": "ipython3",
   "version": "3.12.6"
  }
 },
 "nbformat": 4,
 "nbformat_minor": 2
}
