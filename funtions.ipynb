{
 "cells": [
  {
   "cell_type": "code",
   "execution_count": 8,
   "metadata": {},
   "outputs": [
    {
     "name": "stdout",
     "output_type": "stream",
     "text": [
      "1\n",
      "2\n",
      "3\n"
     ]
    }
   ],
   "source": [
    "def simpleGeneratorFun():\n",
    "    yield 1            \n",
    "    yield 2            \n",
    "    yield 3            \n",
    " \n",
    "# Driver code to check above generator function\n",
    "for value in simpleGeneratorFun(): \n",
    "    print(value)"
   ]
  },
  {
   "cell_type": "code",
   "execution_count": 12,
   "metadata": {},
   "outputs": [
    {
     "name": "stdout",
     "output_type": "stream",
     "text": [
      "My name is Mukama Joseph\n",
      "The son of Musinguzi Jossy\n",
      "The grandson of Nyangaro Longino\n"
     ]
    }
   ],
   "source": [
    "def my_fun(*name):\n",
    "    print(\"My name is \" + name[1]+ \" \" + name[0])\n",
    "    print(\"The son of \" + name[4]+ \" \" + name[5])\n",
    "    print(\"The grandson of \" + name[2]+ \" \" + name[3])\n",
    "\n",
    "my_fun(\"Joseph\",\"Mukama\",\"Nyangaro\",\"Longino\",\"Musinguzi\",\"Jossy\")"
   ]
  },
  {
   "cell_type": "code",
   "execution_count": 1,
   "metadata": {},
   "outputs": [
    {
     "name": "stdout",
     "output_type": "stream",
     "text": [
      "1\n",
      "2\n",
      "3\n",
      "4\n",
      "5\n",
      "6\n",
      "7\n",
      "8\n"
     ]
    }
   ],
   "source": [
    "i = 1\n",
    "while i < 30:\n",
    "    print(i)\n",
    "    i = i + 1\n",
    "    if i ==9:\n",
    "        break"
   ]
  },
  {
   "cell_type": "code",
   "execution_count": 2,
   "metadata": {},
   "outputs": [
    {
     "name": "stdout",
     "output_type": "stream",
     "text": [
      "1\n",
      "2\n",
      "3\n",
      "4\n",
      "5\n",
      "6\n",
      "7\n",
      "8\n",
      "9\n",
      "10\n",
      "11\n",
      "12\n",
      "13\n",
      "14\n",
      "15\n",
      "16\n",
      "17\n",
      "18\n",
      "19\n",
      "20\n",
      "21\n",
      "22\n",
      "23\n",
      "24\n",
      "25\n",
      "26\n",
      "27\n",
      "28\n",
      "29\n"
     ]
    }
   ],
   "source": [
    "i = 1\n",
    "while i < 30:\n",
    "    print(i)\n",
    "    i = i + 1\n",
    "    if i ==9:\n",
    "        continue"
   ]
  },
  {
   "cell_type": "code",
   "execution_count": 3,
   "metadata": {},
   "outputs": [
    {
     "name": "stdout",
     "output_type": "stream",
     "text": [
      "Iam from Uganda\n",
      "Iam from Kenya\n",
      "Iam from Rwanda\n",
      "Iam from Burundi\n",
      "Iam from Tanzania\n",
      "Iam from South Sudan\n"
     ]
    }
   ],
   "source": [
    "def my_fn(country =\"Uganda\"):\n",
    "    print(\"Iam from \" + country)\n",
    "my_fn(\"Uganda\")\n",
    "my_fn(\"Kenya\")\n",
    "my_fn(\"Rwanda\")\n",
    "my_fn(\"Burundi\")\n",
    "my_fn(\"Tanzania\")\n",
    "my_fn(\"South Sudan\")\n"
   ]
  },
  {
   "cell_type": "code",
   "execution_count": null,
   "metadata": {},
   "outputs": [],
   "source": []
  },
  {
   "cell_type": "code",
   "execution_count": 1,
   "metadata": {},
   "outputs": [
    {
     "name": "stdout",
     "output_type": "stream",
     "text": [
      "\n",
      "\n",
      " Recursion Example Results\n",
      "1\n",
      "3\n",
      "6\n",
      "10\n",
      "15\n",
      "21\n",
      "28\n"
     ]
    },
    {
     "data": {
      "text/plain": [
       "28"
      ]
     },
     "execution_count": 1,
     "metadata": {},
     "output_type": "execute_result"
    }
   ],
   "source": [
    "def rec_fn(k):\n",
    "    if (k > 0):\n",
    "        result = k + rec_fn(k-1)\n",
    "        print(result)\n",
    "    else:\n",
    "        result = 0\n",
    "    return result\n",
    "\n",
    "print(\"\\n\\n Recursion Example Results\")\n",
    "rec_fn(7)"
   ]
  },
  {
   "cell_type": "markdown",
   "metadata": {},
   "source": []
  },
  {
   "cell_type": "code",
   "execution_count": 4,
   "metadata": {},
   "outputs": [
    {
     "name": "stdout",
     "output_type": "stream",
     "text": [
      "Sorted array\n",
      "11 12 22 25 64 "
     ]
    }
   ],
   "source": [
    "# Python program for implementation of Selection\n",
    "# Sort\n",
    "A = [64, 25, 12, 22, 11]\n",
    "\n",
    "# Traverse through all array elements\n",
    "for i in range(len(A)-1):\n",
    "    \n",
    "    # Find the minimum element in remaining \n",
    "    # unsorted array\n",
    "    min_idx = i\n",
    "    for j in range(i+1, len(A)):\n",
    "        if A[min_idx] > A[j]:\n",
    "            min_idx = j\n",
    "            \n",
    "    # Swap the found minimum element with \n",
    "    # the first element        \n",
    "    A[i], A[min_idx] = A[min_idx], A[i]\n",
    "\n",
    "# Driver code to test above\n",
    "print (\"Sorted array\")\n",
    "for i in range(len(A)):\n",
    "    print(A[i],end=\" \") "
   ]
  },
  {
   "cell_type": "code",
   "execution_count": 9,
   "metadata": {},
   "outputs": [
    {
     "name": "stdout",
     "output_type": "stream",
     "text": [
      "Am called Bob the first man on earth\n"
     ]
    }
   ],
   "source": [
    "class Person:\n",
    "    def __init__(self, fname, lname):\n",
    "        self.firstname = fname\n",
    "        self.lastname = lname\n",
    "    \n",
    "    def printname(self):\n",
    "        print(self.firstname, self.lastname)\n",
    "\n",
    "p = Person(\"Am called Bob\", \"the first man on earth\")\n",
    "p.printname()\n",
    "\n",
    "    "
   ]
  },
  {
   "cell_type": "markdown",
   "metadata": {},
   "source": [
    "INHERITANCE"
   ]
  },
  {
   "cell_type": "code",
   "execution_count": 10,
   "metadata": {},
   "outputs": [
    {
     "name": "stdout",
     "output_type": "stream",
     "text": [
      "My name is musinguzi Marcellinas aged 23 working as a software developer in Silicon Valley and i persued a Bachelors of Science in Computer Science Uganda Christian University\n"
     ]
    }
   ],
   "source": [
    "class Person:\n",
    "    def __init__(self, full_names, age, work_place, level_of_education, university_you_went_to):\n",
    "        self.your_names = full_names\n",
    "        self.your_age = age\n",
    "        self.your_work_place = work_place\n",
    "        self.your_level_of_education = level_of_education\n",
    "        self.your_university = university_you_went_to\n",
    "    def printname(self):\n",
    "        print(self.your_names, self.your_age, self.your_work_place, self.your_level_of_education, self.your_university)\n",
    "\n",
    "p = Person(\"My name is musinguzi Marcellinas\",\n",
    "            \"aged 23\",\n",
    "            \"working as a software developer in Silicon Valley\",\n",
    "            \"and i persued a Bachelors of Science in Computer Science\",\n",
    "             \"Uganda Christian University UCU\")\n",
    "p.printname()"
   ]
  },
  {
   "cell_type": "code",
   "execution_count": 1,
   "metadata": {},
   "outputs": [
    {
     "name": "stdout",
     "output_type": "stream",
     "text": [
      "2.8284271247461903\n"
     ]
    }
   ],
   "source": [
    "class Coordinate():\n",
    "    def __init__(self, x,y):\n",
    "        self.x = x\n",
    "        self.y = y\n",
    "    def distance(self, other):\n",
    "        x_diff_sq = (self.x-other.x)**2\n",
    "        y_diff_sq = (self.y-other.y)**2\n",
    "        return(x_diff_sq + y_diff_sq)**0.5\n",
    "    \n",
    "Object1 = Coordinate(3,4)\n",
    "Object2 = Coordinate(1,2)\n",
    "print(Object1.distance(Object2))"
   ]
  },
  {
   "cell_type": "code",
   "execution_count": 4,
   "metadata": {},
   "outputs": [
    {
     "name": "stdout",
     "output_type": "stream",
     "text": [
      "Sorted array: [0, 4, 6, 7, 8, 23, 34, 45, 65, 66]\n"
     ]
    }
   ],
   "source": [
    "# QUICK SORT\n",
    "def quick_sort(array):\n",
    "    # base case : if array has 1 or 0 elements\n",
    "    # it is already sorted\n",
    "    if len(array)<=1:\n",
    "        return array\n",
    "    \n",
    "    #step1: Choose a pivot\n",
    "    pivot = array[len(array)//2]\n",
    "\n",
    "    #step2: partition the array into three parts\n",
    "    left = [x for x in array if x < pivot]\n",
    "    middle = [x for x in array if x==pivot]\n",
    "    right = [x for x in array if x >pivot]\n",
    "\n",
    "    #step3: recursively sort the left and right\n",
    "    return quick_sort(left)+ middle + quick_sort(right)\n",
    "array = [23,4,34,65,6,7,8,45,66,0]\n",
    "sorted_array = quick_sort(array)\n",
    "print (\"Sorted array:\", sorted_array)"
   ]
  },
  {
   "cell_type": "markdown",
   "metadata": {},
   "source": [
    "\n"
   ]
  },
  {
   "cell_type": "code",
   "execution_count": 5,
   "metadata": {},
   "outputs": [
    {
     "name": "stdout",
     "output_type": "stream",
     "text": [
      "[3, 4, 23, 33, 433, 556, 6777]\n"
     ]
    }
   ],
   "source": [
    "def quick_sort(array):\n",
    "    if len(array)<= 1:\n",
    "      return array\n",
    "    \n",
    "    pivot = array[len(array)//2]\n",
    "    left = [x for x in array if x<pivot]\n",
    "    right = [x for x in array if x>pivot]\n",
    "    middle = [x for x in array if x ==pivot]\n",
    "    return quick_sort(left) + middle + quick_sort(right)\n",
    "array = [23,4,3,33,556,6777,433]\n",
    "sorted_array = quick_sort(array)\n",
    "print(sorted_array)\n"
   ]
  },
  {
   "cell_type": "code",
   "execution_count": 7,
   "metadata": {},
   "outputs": [
    {
     "name": "stdout",
     "output_type": "stream",
     "text": [
      "Rolled: 2\n",
      "Rolled: 5\n",
      "Rolled: 4\n"
     ]
    }
   ],
   "source": [
    "import random\n",
    "\n",
    "class Dice:\n",
    "    def __init__(self):\n",
    "        self.current_value = None\n",
    "\n",
    "    def roll(self):\n",
    "        self.current_value = random.randint(1, 6)\n",
    "        return self.current_value\n",
    "\n",
    "# Usage example\n",
    "dice = Dice()\n",
    "\n",
    "for _ in range(3):\n",
    "    print(f\"Rolled: {dice.roll()}\")"
   ]
  },
  {
   "cell_type": "code",
   "execution_count": 11,
   "metadata": {},
   "outputs": [
    {
     "name": "stdout",
     "output_type": "stream",
     "text": [
      "Happy Birthday to You\n",
      "Happy Birthday to You\n",
      "Happy Birthday, Dear Joshua,\n",
      "Happy Birthday to You\n"
     ]
    }
   ],
   "source": [
    "def print_birthday():\n",
    "    print(\"Happy Birthday to You\")\n",
    "    print(\"Happy Birthday to You\")\n",
    "    print(\"Happy Birthday, Dear Joshua,\")\n",
    "    print(\"Happy Birthday to You\")\n",
    "\n",
    "print_birthday()"
   ]
  },
  {
   "cell_type": "code",
   "execution_count": 12,
   "metadata": {},
   "outputs": [
    {
     "name": "stdout",
     "output_type": "stream",
     "text": [
      "Happy birthday to you\n",
      "Happy birthday to you\n",
      "Happy birthday to you\n",
      "dddddd\n"
     ]
    }
   ],
   "source": [
    "def singHbd ():\n",
    "    print(\"Happy birthday to you\")\n",
    "def singingBD(name):\n",
    "    singHbd ()\n",
    "    singHbd ()\n",
    "    singHbd ()\n",
    "    print(\"dddddd\")\n",
    "\n",
    "singingBD(\"Joseph\")\n"
   ]
  },
  {
   "cell_type": "code",
   "execution_count": 23,
   "metadata": {},
   "outputs": [
    {
     "name": "stdout",
     "output_type": "stream",
     "text": [
      "Joseph Joseph Joseph Joseph\n"
     ]
    }
   ],
   "source": [
    "class Dice:\n",
    "    def __init__(self, a, b, c, d):\n",
    "        self.a = a\n",
    "        self.b = b\n",
    "        self.c = c\n",
    "        self.d = d\n",
    "    def roll(self):\n",
    "        print(self.a,self.b,self.c,self.d)\n",
    "d = Dice(\"Joseph\",\"Joseph\",\"Joseph\",\"Joseph\")\n",
    "d.roll()\n",
    "\n"
   ]
  },
  {
   "cell_type": "code",
   "execution_count": 25,
   "metadata": {},
   "outputs": [
    {
     "ename": "SyntaxError",
     "evalue": "invalid syntax (1034347779.py, line 10)",
     "output_type": "error",
     "traceback": [
      "\u001b[1;36m  Cell \u001b[1;32mIn[25], line 10\u001b[1;36m\u001b[0m\n\u001b[1;33m    def\u001b[0m\n\u001b[1;37m       ^\u001b[0m\n\u001b[1;31mSyntaxError\u001b[0m\u001b[1;31m:\u001b[0m invalid syntax\n"
     ]
    }
   ],
   "source": [
    "class Car:\n",
    "    def __init__(self,brand,model,year,mileage):\n",
    "        self.brand = brand\n",
    "        self.model = model\n",
    "        self.year = year\n",
    "        self.mileage = mileage\n",
    "    def display_info(self):\n",
    "        print(self.brand, self.model, self.year, self.mileage)\n",
    "\n",
    "    def drive()\n",
    "Car1 = Car(\"Telsa\",\"Cybertruck\", 2019, 15000)\n",
    "Car2 = Car(\"Honda\",\"Civic\", 2018, 14000)\n",
    "Car3 = Car(\"Nissan\",\"Altima\", 2021, 12000)\n",
    "Car1.display_info()\n",
    "Car2.display_info()\n",
    "Car3.display_info()\n"
   ]
  },
  {
   "cell_type": "code",
   "execution_count": 8,
   "metadata": {},
   "outputs": [
    {
     "data": {
      "text/plain": [
       "4"
      ]
     },
     "execution_count": 8,
     "metadata": {},
     "output_type": "execute_result"
    }
   ],
   "source": [
    "# function search(A,K)\n",
    "def search(A,K):\n",
    " # i = 0;\n",
    " i = 0\n",
    " # while i < n and A[i] != K do i = i+1;\n",
    " while i<len(A) and A[i]!=K:\n",
    "   i = i+1\n",
    " \n",
    " # if i < n return i;\n",
    " if i < len(A):\n",
    "  return i\n",
    " # else return -1;\n",
    " else:\n",
    "  return -1\n",
    "A = [74,32, 89, 55, 21, 64]\n",
    "k = 21\n",
    "search(A,k) # output: 4"
   ]
  },
  {
   "cell_type": "code",
   "execution_count": 13,
   "metadata": {},
   "outputs": [
    {
     "name": "stdout",
     "output_type": "stream",
     "text": [
      "the target foundd at: 3\n"
     ]
    }
   ],
   "source": [
    "def search(list,target):\n",
    "    for i in range (len(list)):\n",
    "        if list[i] == target:\n",
    "            return f\"the target found at: {i}\"\n",
    "    return\"not\"\n",
    "\n",
    "list = [4,2,6,77,8,99]\n",
    "target = 77\n",
    "result = search(list,target)\n",
    "print(result)"
   ]
  }
 ],
 "metadata": {
  "kernelspec": {
   "display_name": "Python 3",
   "language": "python",
   "name": "python3"
  },
  "language_info": {
   "codemirror_mode": {
    "name": "ipython",
    "version": 3
   },
   "file_extension": ".py",
   "mimetype": "text/x-python",
   "name": "python",
   "nbconvert_exporter": "python",
   "pygments_lexer": "ipython3",
   "version": "3.12.6"
  }
 },
 "nbformat": 4,
 "nbformat_minor": 2
}
